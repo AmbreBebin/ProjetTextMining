{
 "cells": [
  {
   "cell_type": "code",
   "execution_count": 1,
   "metadata": {},
   "outputs": [],
   "source": [
    "import gensim\n",
    "from gensim import corpora\n",
    "from gensim.models import LdaModel\n",
    "import pandas as pd\n",
    "import nltk\n",
    "\n",
    "\n",
    "from nltk.tokenize import word_tokenize\n",
    "from nltk.corpus import stopwords\n",
    "from nltk.stem import WordNetLemmatizer\n"
   ]
  },
  {
   "cell_type": "code",
   "execution_count": 42,
   "metadata": {},
   "outputs": [],
   "source": [
    "# Importation données\n",
    "tweet_now = pd.read_csv(\"data_chatgpt_now.csv\",  encoding = \"utf-8\")\n",
    "tweet_before = pd.read_csv(\"data_chatgpt_before.csv\", encoding = \"utf-8\")\n",
    "\n",
    "tweet_now = tweet_now.dropna()\n",
    "tweet_now = tweet_now.reset_index(drop=True)\n",
    "\n",
    "tweet_before = tweet_before.dropna()\n",
    "tweet_before = tweet_before.reset_index(drop=True)"
   ]
  },
  {
   "cell_type": "code",
   "execution_count": 43,
   "metadata": {},
   "outputs": [],
   "source": [
    "list_tweet_before = []\n",
    "for i in range(len(tweet_before)) :\n",
    "   list_tweet_before.append(tweet_before.iloc[i, 0].split())"
   ]
  },
  {
   "cell_type": "code",
   "execution_count": 48,
   "metadata": {},
   "outputs": [
    {
     "name": "stdout",
     "output_type": "stream",
     "text": [
      "(0, '0.065*\"nouveau\" + 0.039*\"tester\" + 0.034*\"intelligence\"')\n",
      "(1, '0.062*\"openai\" + 0.036*\"bien\" + 0.023*\"via\"')\n",
      "(2, '0.023*\"prendre\" + 0.015*\"poser\" + 0.013*\"bientôt\"')\n",
      "(3, '0.053*\"avoir\" + 0.043*\"faire\" + 0.035*\"ia\"')\n",
      "(4, '0.068*\"pouvoir\" + 0.051*\"réponse\" + 0.042*\"question\"')\n",
      "(5, '0.026*\"quand\" + 0.023*\"code\" + 0.020*\"vraiment\"')\n"
     ]
    }
   ],
   "source": [
    "# Pré-traitement des données\n",
    "dictionary = corpora.Dictionary(list_tweet_before)\n",
    "\n",
    "corpus = [dictionary.doc2bow(text) for text in list_tweet_before]\n",
    "\n",
    "# Entraînement du modèle LDA\n",
    "lda_model = LdaModel(corpus=corpus, id2word=dictionary, num_topics=6, random_state=100,\n",
    "                     update_every=1, chunksize=100, passes=10, alpha='auto', per_word_topics=True)\n",
    "\n",
    "# Afficher les thèmes générés par le modèle LDA\n",
    "topics = lda_model.print_topics(num_words=3)\n",
    "for topic in topics:\n",
    "    print(topic)"
   ]
  }
 ],
 "metadata": {
  "kernelspec": {
   "display_name": "base",
   "language": "python",
   "name": "python3"
  },
  "language_info": {
   "codemirror_mode": {
    "name": "ipython",
    "version": 3
   },
   "file_extension": ".py",
   "mimetype": "text/x-python",
   "name": "python",
   "nbconvert_exporter": "python",
   "pygments_lexer": "ipython3",
   "version": "3.9.12"
  },
  "orig_nbformat": 4,
  "vscode": {
   "interpreter": {
    "hash": "9f0194299e911b6a22f0cd3d1c9a66c991d39f48b249be23f24104e40900e329"
   }
  }
 },
 "nbformat": 4,
 "nbformat_minor": 2
}
